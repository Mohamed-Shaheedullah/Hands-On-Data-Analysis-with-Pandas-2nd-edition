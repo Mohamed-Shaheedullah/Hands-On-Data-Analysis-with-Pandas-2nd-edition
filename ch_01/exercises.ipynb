{
 "cells": [
  {
   "cell_type": "markdown",
   "metadata": {},
   "source": [
    "# Coding exercises\n",
    "Exercises 1-3 are thought exercises that don't require coding. If you need a Python crash-course/refresher, work through the [`python_101.ipynb`](./python_101.ipynb) notebook in chapter 1.\n",
    "\n",
    "## Exercise 4: Generate the data by running this cell\n",
    "This will give you a list of numbers to work with in the remaining exercises."
   ]
  },
  {
   "cell_type": "code",
   "execution_count": 20,
   "metadata": {},
   "outputs": [],
   "source": [
    "import random\n",
    "import statistics as st\n",
    "import numpy as np\n",
    "import scipy.stats as sc\n",
    "from sklearn import preprocessing\n",
    "\n",
    "random.seed(0)\n",
    "salaries = [round(random.random()*1000000, -3) for _ in range(100)]"
   ]
  },
  {
   "cell_type": "markdown",
   "metadata": {},
   "source": [
    "## Exercise 5: Calculating statistics and verifying\n",
    "### mean"
   ]
  },
  {
   "cell_type": "code",
   "execution_count": 2,
   "metadata": {},
   "outputs": [
    {
     "data": {
      "text/plain": [
       "585690.0"
      ]
     },
     "execution_count": 2,
     "metadata": {},
     "output_type": "execute_result"
    }
   ],
   "source": [
    "my_mean = sum(salaries) / len(salaries)\n",
    "my_mean"
   ]
  },
  {
   "cell_type": "markdown",
   "metadata": {},
   "source": [
    "### median"
   ]
  },
  {
   "cell_type": "code",
   "execution_count": 3,
   "metadata": {},
   "outputs": [
    {
     "data": {
      "text/plain": [
       "589000.0"
      ]
     },
     "execution_count": 3,
     "metadata": {},
     "output_type": "execute_result"
    }
   ],
   "source": [
    "my_median = st.median(salaries)\n",
    "my_median"
   ]
  },
  {
   "cell_type": "markdown",
   "metadata": {},
   "source": [
    "### mode"
   ]
  },
  {
   "cell_type": "code",
   "execution_count": 4,
   "metadata": {},
   "outputs": [
    {
     "data": {
      "text/plain": [
       "477000.0"
      ]
     },
     "execution_count": 4,
     "metadata": {},
     "output_type": "execute_result"
    }
   ],
   "source": [
    "my_mode = st.mode(salaries)\n",
    "my_mode"
   ]
  },
  {
   "cell_type": "markdown",
   "metadata": {},
   "source": [
    "### sample variance\n",
    "Remember to use Bessel's correction."
   ]
  },
  {
   "cell_type": "code",
   "execution_count": 5,
   "metadata": {},
   "outputs": [
    {
     "data": {
      "text/plain": [
       "265827.11382484"
      ]
     },
     "execution_count": 5,
     "metadata": {},
     "output_type": "execute_result"
    }
   ],
   "source": [
    "my_stdev = st.stdev(salaries)\n",
    "my_stdev"
   ]
  },
  {
   "cell_type": "markdown",
   "metadata": {},
   "source": [
    "### sample standard deviation\n",
    "Remember to use Bessel's correction."
   ]
  },
  {
   "cell_type": "code",
   "execution_count": 6,
   "metadata": {},
   "outputs": [
    {
     "data": {
      "text/plain": [
       "70664054444.44444"
      ]
     },
     "execution_count": 6,
     "metadata": {},
     "output_type": "execute_result"
    }
   ],
   "source": [
    "my_var = st.variance(salaries)\n",
    "my_var"
   ]
  },
  {
   "cell_type": "markdown",
   "metadata": {},
   "source": [
    "## Exercise 6: Calculating more statistics\n",
    "### range"
   ]
  },
  {
   "cell_type": "code",
   "execution_count": 9,
   "metadata": {},
   "outputs": [
    {
     "data": {
      "text/plain": [
       "995000.0"
      ]
     },
     "execution_count": 9,
     "metadata": {},
     "output_type": "execute_result"
    }
   ],
   "source": [
    "my_range = max(salaries) - min(salaries)\n",
    "my_range"
   ]
  },
  {
   "cell_type": "markdown",
   "metadata": {},
   "source": [
    "### coefficient of variation\n",
    "Make sure to use the sample standard deviation."
   ]
  },
  {
   "cell_type": "code",
   "execution_count": 12,
   "metadata": {},
   "outputs": [
    {
     "data": {
      "text/plain": [
       "45.38699889443903"
      ]
     },
     "execution_count": 12,
     "metadata": {},
     "output_type": "execute_result"
    }
   ],
   "source": [
    "cv = lambda x: np.std(x, ddof=1) / np.mean(x) * 100\n",
    "cv(salaries)"
   ]
  },
  {
   "cell_type": "markdown",
   "metadata": {},
   "source": [
    "### interquartile range"
   ]
  },
  {
   "cell_type": "code",
   "execution_count": 17,
   "metadata": {},
   "outputs": [
    {
     "name": "stdout",
     "output_type": "stream",
     "text": [
      "413250.0\n",
      "413250.0\n"
     ]
    }
   ],
   "source": [
    "iqr = np.subtract(*np.percentile(salaries, [75, 25]))\n",
    "print(iqr)\n",
    "my_iqr = sc.iqr(salaries)\n",
    "print(my_iqr)"
   ]
  },
  {
   "cell_type": "code",
   "execution_count": null,
   "metadata": {},
   "outputs": [],
   "source": []
  },
  {
   "cell_type": "markdown",
   "metadata": {},
   "source": [
    "### quartile coefficent of dispersion"
   ]
  },
  {
   "cell_type": "code",
   "execution_count": 19,
   "metadata": {},
   "outputs": [
    {
     "name": "stdout",
     "output_type": "stream",
     "text": [
      "0.338660110633067\n"
     ]
    }
   ],
   "source": [
    "def calc_qcd(data_array) -> float: \n",
    "  # Calculates Quartile Coefficient Difference\n",
    "  q1, q3 = np.percentile(data_array, [25, 75])\n",
    "  return (q3 - q1) / (q3 + q1)\n",
    "\n",
    "my_qcd = calc_qcd(salaries)\n",
    "print(my_qcd)"
   ]
  },
  {
   "cell_type": "markdown",
   "metadata": {},
   "source": [
    "## Exercise 7: Scaling data\n",
    "### min-max scaling"
   ]
  },
  {
   "cell_type": "code",
   "execution_count": 21,
   "metadata": {},
   "outputs": [
    {
     "name": "stdout",
     "output_type": "stream",
     "text": [
      "[[0.13133261 0.11795038 0.0655107  0.04030231 0.07951536 0.06302098\n",
      "  0.12199617 0.04714903 0.07422471 0.09071909 0.14129148 0.07858172\n",
      "  0.04388128 0.11763916 0.09616535 0.03905745 0.1416027  0.15296203\n",
      "  0.12604196 0.14035784 0.04823828 0.11359337 0.13989102 0.10643543\n",
      "  0.07344667 0.01571634 0.06753359 0.0950761  0.14206952 0.15047232\n",
      "  0.07422471 0.13460037 0.04045791 0.12526392 0.08542844 0.0021785\n",
      "  0.1120373  0.06208734 0.12837607 0.10394572 0.00015561 0.07687004\n",
      "  0.13506719 0.0379682  0.05057239 0.1353784  0.02972101 0.08838498\n",
      "  0.03719016 0.15062792 0.12495271 0.0697121  0.01244859 0.04979435\n",
      "  0.07904854 0.14518167 0.0169612  0.08573965 0.1100144  0.08511723\n",
      "  0.12666439 0.08402797 0.15000549 0.09383124 0.09149713 0.06924527\n",
      "  0.09274199 0.05990883 0.08962984 0.04512613 0.02940979 0.02909858\n",
      "  0.09538731 0.10223403 0.07422471 0.01400466 0.11795038 0.13646765\n",
      "  0.14362559 0.1310214  0.13973541 0.14362559 0.08418358 0.06084248\n",
      "  0.10970319 0.04294763 0.12635318 0.13211065 0.13926859 0.09180834\n",
      "  0.14782699 0.09025227 0.07017892 0.10270086 0.15498493 0.14269195\n",
      "  0.12339664 0.0127598  0.09538731 0.07562518]]\n"
     ]
    }
   ],
   "source": [
    "normalized_arr = preprocessing.normalize([salaries])\n",
    "print(normalized_arr)\n"
   ]
  },
  {
   "cell_type": "markdown",
   "metadata": {},
   "source": [
    "### standardizing"
   ]
  },
  {
   "cell_type": "code",
   "execution_count": 33,
   "metadata": {},
   "outputs": [
    {
     "name": "stdout",
     "output_type": "stream",
     "text": [
      "[ 0.97661715  0.65146878 -0.62265912 -1.23514791 -0.28238758 -0.68315184\n",
      "  0.74976945 -1.06879293 -0.41093461 -0.01017034  1.21858803 -0.30507235\n",
      " -1.14818962  0.64390719  0.12215749 -1.26539427  1.22614962  1.50214765\n",
      "  0.84807012  1.19590326 -1.04232737  0.54560652  1.18456087  0.37168995\n",
      " -0.42983858 -1.83251351 -0.57350879  0.09569192  1.237492    1.44165493\n",
      " -0.41093461  1.05601384 -1.23136711  0.82916615 -0.13871737 -2.16144268\n",
      "  0.50779857 -0.70583661  0.90478204  0.31119723 -2.21059301 -0.34666109\n",
      "  1.06735623 -1.29185983 -0.98561544  1.07491782 -1.49224197 -0.06688226\n",
      " -1.31076381  1.44543573  0.82160456 -0.52057766 -1.91191021 -1.00451942\n",
      " -0.29372996  1.3131079  -1.80226716 -0.13115578  0.45864824 -0.14627896\n",
      "  0.8631933  -0.17274452  1.43031255  0.06544556  0.00873364 -0.53192004\n",
      "  0.03898    -0.75876774 -0.0366359  -1.11794327 -1.49980356 -1.50736515\n",
      "  0.10325351  0.26960849 -0.41093461 -1.87410226  0.65146878  1.10138338\n",
      "  1.27529995  0.96905556  1.18078008  1.27529995 -0.16896373 -0.73608297\n",
      "  0.45108665 -1.17087439  0.85563171  0.99552112  1.16943769  0.01629523\n",
      "  1.37738142 -0.02151272 -0.50923527  0.28095087  1.55129798  1.25261518\n",
      "  0.78379661 -1.90434862  0.10325351 -0.37690745]\n"
     ]
    }
   ],
   "source": [
    "my_std = sc.stats.zscore(salaries)\n",
    "print(my_std)"
   ]
  },
  {
   "cell_type": "code",
   "execution_count": null,
   "metadata": {},
   "outputs": [],
   "source": []
  },
  {
   "cell_type": "code",
   "execution_count": null,
   "metadata": {},
   "outputs": [],
   "source": []
  },
  {
   "cell_type": "markdown",
   "metadata": {},
   "source": [
    "## Exercise 8: Calculating covariance and correlation\n",
    "### covariance"
   ]
  },
  {
   "cell_type": "code",
   "execution_count": 35,
   "metadata": {},
   "outputs": [
    {
     "name": "stdout",
     "output_type": "stream",
     "text": [
      "[[1.01010101 0.04157304]\n",
      " [0.04157304 0.00171103]]\n"
     ]
    }
   ],
   "source": [
    "my_cov = np.cov(my_std, normalized_arr)\n",
    "print(my_cov)"
   ]
  },
  {
   "cell_type": "markdown",
   "metadata": {},
   "source": [
    "### Pearson correlation coefficient ($\\rho$)"
   ]
  },
  {
   "cell_type": "code",
   "execution_count": 39,
   "metadata": {},
   "outputs": [
    {
     "ename": "ValueError",
     "evalue": "x and y must have the same length.",
     "output_type": "error",
     "traceback": [
      "\u001b[1;31m---------------------------------------------------------------------------\u001b[0m",
      "\u001b[1;31mValueError\u001b[0m                                Traceback (most recent call last)",
      "\u001b[1;32m~\\AppData\\Local\\Temp\\ipykernel_9012\\2302023070.py\u001b[0m in \u001b[0;36m<module>\u001b[1;34m\u001b[0m\n\u001b[1;32m----> 1\u001b[1;33m \u001b[0mmy_pear\u001b[0m \u001b[1;33m=\u001b[0m \u001b[0msc\u001b[0m\u001b[1;33m.\u001b[0m\u001b[0mpearsonr\u001b[0m\u001b[1;33m(\u001b[0m\u001b[0mmy_std\u001b[0m\u001b[1;33m,\u001b[0m \u001b[0mnormalized_arr\u001b[0m\u001b[1;33m)\u001b[0m\u001b[1;33m\u001b[0m\u001b[1;33m\u001b[0m\u001b[0m\n\u001b[0m\u001b[0;32m      2\u001b[0m \u001b[0mprint\u001b[0m\u001b[1;33m(\u001b[0m\u001b[0mmy_pear\u001b[0m\u001b[1;33m)\u001b[0m\u001b[1;33m\u001b[0m\u001b[1;33m\u001b[0m\u001b[0m\n",
      "\u001b[1;32m~\\anaconda3\\envs\\book_env\\lib\\site-packages\\scipy\\stats\\stats.py\u001b[0m in \u001b[0;36mpearsonr\u001b[1;34m(x, y)\u001b[0m\n\u001b[0;32m   4011\u001b[0m     \u001b[0mn\u001b[0m \u001b[1;33m=\u001b[0m \u001b[0mlen\u001b[0m\u001b[1;33m(\u001b[0m\u001b[0mx\u001b[0m\u001b[1;33m)\u001b[0m\u001b[1;33m\u001b[0m\u001b[1;33m\u001b[0m\u001b[0m\n\u001b[0;32m   4012\u001b[0m     \u001b[1;32mif\u001b[0m \u001b[0mn\u001b[0m \u001b[1;33m!=\u001b[0m \u001b[0mlen\u001b[0m\u001b[1;33m(\u001b[0m\u001b[0my\u001b[0m\u001b[1;33m)\u001b[0m\u001b[1;33m:\u001b[0m\u001b[1;33m\u001b[0m\u001b[1;33m\u001b[0m\u001b[0m\n\u001b[1;32m-> 4013\u001b[1;33m         \u001b[1;32mraise\u001b[0m \u001b[0mValueError\u001b[0m\u001b[1;33m(\u001b[0m\u001b[1;34m'x and y must have the same length.'\u001b[0m\u001b[1;33m)\u001b[0m\u001b[1;33m\u001b[0m\u001b[1;33m\u001b[0m\u001b[0m\n\u001b[0m\u001b[0;32m   4014\u001b[0m \u001b[1;33m\u001b[0m\u001b[0m\n\u001b[0;32m   4015\u001b[0m     \u001b[1;32mif\u001b[0m \u001b[0mn\u001b[0m \u001b[1;33m<\u001b[0m \u001b[1;36m2\u001b[0m\u001b[1;33m:\u001b[0m\u001b[1;33m\u001b[0m\u001b[1;33m\u001b[0m\u001b[0m\n",
      "\u001b[1;31mValueError\u001b[0m: x and y must have the same length."
     ]
    }
   ],
   "source": [
    "my_pear = sc.pearsonr(my_std, normalized_arr)\n",
    "print(my_pear)"
   ]
  },
  {
   "cell_type": "markdown",
   "metadata": {},
   "source": [
    "<hr>\n",
    "<div style=\"overflow: hidden; margin-bottom: 10px;\">\n",
    "    <div style=\"float: left;\">\n",
    "        <a href=\"./python_101.ipynb\">\n",
    "            <button>Python 101</button>\n",
    "        </a>\n",
    "    </div>\n",
    "    <div style=\"float: right;\">\n",
    "        <a href=\"../../solutions/ch_01/solutions.ipynb\">\n",
    "            <button>Solutions</button>\n",
    "        </a>\n",
    "        <a href=\"../ch_02/1-pandas_data_structures.ipynb\">\n",
    "            <button>Chapter 2 &#8594;</button>\n",
    "        </a>\n",
    "    </div>\n",
    "</div>\n",
    "<hr>"
   ]
  }
 ],
 "metadata": {
  "kernelspec": {
   "display_name": "Python 3 (ipykernel)",
   "language": "python",
   "name": "python3"
  },
  "language_info": {
   "codemirror_mode": {
    "name": "ipython",
    "version": 3
   },
   "file_extension": ".py",
   "mimetype": "text/x-python",
   "name": "python",
   "nbconvert_exporter": "python",
   "pygments_lexer": "ipython3",
   "version": "3.11.7"
  }
 },
 "nbformat": 4,
 "nbformat_minor": 4
}
